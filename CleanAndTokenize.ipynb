{
 "cells": [
  {
   "cell_type": "code",
   "execution_count": null,
   "metadata": {
    "ExecuteTime": {
     "end_time": "2021-02-18T23:38:51.511619Z",
     "start_time": "2021-02-18T23:38:51.385623Z"
    }
   },
   "outputs": [],
   "source": [
    "import pyopencl as cl #ONLY RUN THIS IF YOU'RE USING GPU"
   ]
  },
  {
   "cell_type": "code",
   "execution_count": null,
   "metadata": {
    "ExecuteTime": {
     "end_time": "2021-02-18T23:38:53.011623Z",
     "start_time": "2021-02-18T23:38:51.512621Z"
    }
   },
   "outputs": [],
   "source": [
    "import nltk\n",
    "nltk.download('punkt')\n",
    "nltk.download('stopwords')\n",
    "nltk.download('wordnet')"
   ]
  },
  {
   "cell_type": "code",
   "execution_count": null,
   "metadata": {
    "ExecuteTime": {
     "end_time": "2021-02-18T23:38:53.307622Z",
     "start_time": "2021-02-18T23:38:53.013624Z"
    }
   },
   "outputs": [],
   "source": [
    "import pandas as pd\n",
    "from nltk.tokenize import sent_tokenize, word_tokenize\n",
    "from nltk.corpus import stopwords\n",
    "from nltk.stem import WordNetLemmatizer\n",
    "import string"
   ]
  },
  {
   "cell_type": "code",
   "execution_count": null,
   "metadata": {
    "ExecuteTime": {
     "end_time": "2021-02-18T23:38:56.470621Z",
     "start_time": "2021-02-18T23:38:53.309624Z"
    }
   },
   "outputs": [],
   "source": [
    "pre_df = pd.read_csv('./data/pre_soccer_replaced.csv')\n",
    "post_df = pd.read_csv('./data/post_soccer_replaced.csv')"
   ]
  },
  {
   "cell_type": "code",
   "execution_count": null,
   "metadata": {},
   "outputs": [],
   "source": [
    "pre_df=pre_df[pre_df['ptitle'].isna()==False]\n",
    "post_df=post_df[pre_df['ptitle'].isna()==False]"
   ]
  },
  {
   "cell_type": "code",
   "execution_count": null,
   "metadata": {
    "ExecuteTime": {
     "end_time": "2021-02-18T23:38:56.548621Z",
     "start_time": "2021-02-18T23:38:56.536625Z"
    }
   },
   "outputs": [],
   "source": [
    "def TokenizeProcess(df):\n",
    "    word_lemmatizer = WordNetLemmatizer()\n",
    "\n",
    "    df_tk = pd.DataFrame(columns=['ptitle', 'pscore', 'pid', 'pbody', 'pcreated', 'comment', 'cauthor', 'ccreated'])\n",
    "\n",
    "    for (ptitle, pscore, pid, pbody, pcreated, comment, cauthor, ccreated) in df.values.tolist():\n",
    "        # Tokenize\n",
    "        tokens = word_tokenize(str(comment).lower())\n",
    "\n",
    "        # Strip punctuation\n",
    "        punctuation_list = str.maketrans('', '', string.punctuation)\n",
    "        tokens_strp = [w.translate(punctuation_list) for w in tokens]\n",
    "\n",
    "        # Remove other non-alphabetic tokens\n",
    "        words = [word for word in tokens_strp if word.isalpha()]\n",
    "\n",
    "        # Stop words\n",
    "        stop_words = set(stopwords.words('english'))\n",
    "        words = [w for w in words if not w in stop_words]\n",
    "\n",
    "        # Lemmatize\n",
    "        # Note: We might need to do this for the brands we want to detect as well\n",
    "        words_lm = [word_lemmatizer.lemmatize(w) for w in words]\n",
    "        df_tk = df_tk.append({\"ptitle\": ptitle, 'pscore':pscore, 'pid':pid, 'pbody':pbody, 'pcreated': pcreated, 'comment': words_lm, 'cauthor': cauthor, 'ccreated': ccreated} ,ignore_index=True) \n",
    "    return df_tk"
   ]
  },
  {
   "cell_type": "code",
   "execution_count": null,
   "metadata": {
    "ExecuteTime": {
     "end_time": "2021-02-18T23:41:01.732651Z",
     "start_time": "2021-02-18T23:38:56.550622Z"
    }
   },
   "outputs": [],
   "source": [
    "pre_df_tk = TokenizeProcess(pre_df)"
   ]
  },
  {
   "cell_type": "code",
   "execution_count": null,
   "metadata": {},
   "outputs": [],
   "source": [
    "from datetime import datetime\n",
    "pre_df=pre_df_tk\n",
    "pre_df['pcreated_date']=[datetime.fromtimestamp(x) for x in pre_df['pcreated']]\n",
    "post_df['pcreated_date']=[datetime.fromtimestamp(x) for x in post_df['pcreated']]\n",
    "pre_df['ccreated_date']=[datetime.fromtimestamp(x) for x in pre_df['ccreated']]\n",
    "#post_df['ccreated']=[datetime.fromtimestamp(x) for x in post_df['ccreated']]\n",
    "\n",
    "# 1. I have fix dates \n",
    "# 2. Seperate the teams out from title, pickle the files\n",
    "# 3. Anu -> sentiment analysis\n",
    "# 4. Sid -> Report starting\n",
    "# 5. Bog -> front-end, matching\n",
    "\n",
    "\n",
    "teams = pd.read_csv('./data/teams.csv')\n",
    "def getinvolved(df,column):\n",
    "    allteams=[]\n",
    "    missed=[]\n",
    "    for title in df[column]:\n",
    "        involvedteams=[]\n",
    "        for teamname,teamfull in teams.values:\n",
    "            if(teamname in title or teamfull in title):\n",
    "                involvedteams.append(teamname)\n",
    "        involvedteams=list(set(involvedteams))\n",
    "        involvedteams.sort()\n",
    "        if(len(involvedteams)!=2):\n",
    "            print(title,involvedteams)\n",
    "            missed.append(title)\n",
    "            allteams.append(\"None\")\n",
    "        else:\n",
    "            allteams.append(\" vs \".join(involvedteams))\n",
    "    df['involved_teams'] = allteams\n",
    "    df=df[df['involved_teams']!=\"None\"].reset_index(drop=True)\n",
    "    return(df)\n",
    "\n",
    "\n",
    "\n",
    "pre_df=getinvolved(pre_df,'ptitle')\n",
    "post_df=getinvolved(post_df,'ptitle')\n",
    "pre_post=pd.merge(pre_df,post_df[['ptitle','pcreated','pcreated_date','involved_teams']],left_on=\"involved_teams\",right_on=\"involved_teams\",how='left')\n",
    "pre_post['diff'] = pre_post['pcreated_date_y']-pre_post['pcreated_date_x']\n",
    "\n",
    "pre_post['diff'] = [x.days for x in pre_post['diff']]\n",
    "pre_post=pre_post[(pre_post['diff'].isna()==False) & (pre_post['diff']<=20)]\n",
    "pre_df.drop_duplicates(\"pid\").to_csv(\"./data/unique_pre.csv\")\n",
    "\n",
    "#"
   ]
  },
  {
   "cell_type": "code",
   "execution_count": null,
   "metadata": {},
   "outputs": [],
   "source": [
    "pre_df.drop_duplicates(\"ptitle\").to_csv(\"unique_pre.csv\")"
   ]
  },
  {
   "cell_type": "code",
   "execution_count": null,
   "metadata": {
    "ExecuteTime": {
     "end_time": "2021-02-18T23:46:33.119685Z",
     "start_time": "2021-02-18T23:41:01.733621Z"
    }
   },
   "outputs": [],
   "source": [
    "#post_df_tk = TokenizeProcess(post_df)"
   ]
  },
  {
   "cell_type": "code",
   "execution_count": null,
   "metadata": {
    "ExecuteTime": {
     "end_time": "2021-02-18T23:48:08.574599Z",
     "start_time": "2021-02-18T23:48:02.664885Z"
    }
   },
   "outputs": [],
   "source": [
    "pre_df_tk.to_csv(\"./data/pre_soccer_tokenized.csv\",index=False)\n",
    "#post_df_tk.to_csv(\"./data/post_soccer_tokenized.csv\",index=False)"
   ]
  },
  {
   "cell_type": "code",
   "execution_count": null,
   "metadata": {},
   "outputs": [],
   "source": [
    "import pickle\n",
    "pickle.dump( pre_df_tk, open( \"./data/pre_df_tk.p\", \"wb\" ) )\n"
   ]
  }
 ],
 "metadata": {
  "hide_input": false,
  "kernelspec": {
   "display_name": "Python 3.7.7 64-bit",
   "language": "python",
   "name": "python37764bit4ada4739344a444e86dc35e0d095141c"
  },
  "language_info": {
   "codemirror_mode": {
    "name": "ipython",
    "version": 3
   },
   "file_extension": ".py",
   "mimetype": "text/x-python",
   "name": "python",
   "nbconvert_exporter": "python",
   "pygments_lexer": "ipython3",
   "version": "3.7.7"
  },
  "toc": {
   "base_numbering": 1,
   "nav_menu": {},
   "number_sections": true,
   "sideBar": true,
   "skip_h1_title": false,
   "title_cell": "Table of Contents",
   "title_sidebar": "Contents",
   "toc_cell": false,
   "toc_position": {},
   "toc_section_display": true,
   "toc_window_display": false
  },
  "varInspector": {
   "cols": {
    "lenName": 16,
    "lenType": 16,
    "lenVar": 40
   },
   "kernels_config": {
    "python": {
     "delete_cmd_postfix": "",
     "delete_cmd_prefix": "del ",
     "library": "var_list.py",
     "varRefreshCmd": "print(var_dic_list())"
    },
    "r": {
     "delete_cmd_postfix": ") ",
     "delete_cmd_prefix": "rm(",
     "library": "var_list.r",
     "varRefreshCmd": "cat(var_dic_list()) "
    }
   },
   "types_to_exclude": [
    "module",
    "function",
    "builtin_function_or_method",
    "instance",
    "_Feature"
   ],
   "window_display": false
  }
 },
 "nbformat": 4,
 "nbformat_minor": 5
}
