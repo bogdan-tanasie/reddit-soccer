{
 "cells": [
  {
   "cell_type": "code",
   "execution_count": 1,
   "id": "destroyed-melissa",
   "metadata": {
    "ExecuteTime": {
     "end_time": "2021-02-18T23:37:19.053280Z",
     "start_time": "2021-02-18T23:37:18.932283Z"
    }
   },
   "outputs": [],
   "source": [
    "import pyopencl as cl #ONLY RUN THIS IF YOU'RE USING GPU"
   ]
  },
  {
   "cell_type": "code",
   "execution_count": 2,
   "id": "outdoor-vacation",
   "metadata": {
    "ExecuteTime": {
     "end_time": "2021-02-18T23:37:20.550654Z",
     "start_time": "2021-02-18T23:37:19.055282Z"
    }
   },
   "outputs": [
    {
     "name": "stderr",
     "output_type": "stream",
     "text": [
      "[nltk_data] Downloading package punkt to\n",
      "[nltk_data]     C:\\Users\\18199\\AppData\\Roaming\\nltk_data...\n",
      "[nltk_data]   Package punkt is already up-to-date!\n",
      "[nltk_data] Downloading package stopwords to\n",
      "[nltk_data]     C:\\Users\\18199\\AppData\\Roaming\\nltk_data...\n",
      "[nltk_data]   Package stopwords is already up-to-date!\n",
      "[nltk_data] Downloading package wordnet to\n",
      "[nltk_data]     C:\\Users\\18199\\AppData\\Roaming\\nltk_data...\n",
      "[nltk_data]   Package wordnet is already up-to-date!\n"
     ]
    },
    {
     "data": {
      "text/plain": [
       "True"
      ]
     },
     "execution_count": 2,
     "metadata": {},
     "output_type": "execute_result"
    }
   ],
   "source": [
    "import nltk\n",
    "nltk.download('punkt')\n",
    "nltk.download('stopwords')\n",
    "nltk.download('wordnet')"
   ]
  },
  {
   "cell_type": "code",
   "execution_count": 3,
   "id": "clean-joining",
   "metadata": {
    "ExecuteTime": {
     "end_time": "2021-02-18T23:37:20.826547Z",
     "start_time": "2021-02-18T23:37:20.552548Z"
    }
   },
   "outputs": [],
   "source": [
    "import pandas as pd\n",
    "from nltk.tokenize import sent_tokenize, word_tokenize\n",
    "from nltk.corpus import stopwords\n",
    "from nltk.stem import WordNetLemmatizer\n",
    "import string"
   ]
  },
  {
   "cell_type": "code",
   "execution_count": 4,
   "id": "casual-jurisdiction",
   "metadata": {
    "ExecuteTime": {
     "end_time": "2021-02-18T23:37:23.917577Z",
     "start_time": "2021-02-18T23:37:20.829547Z"
    }
   },
   "outputs": [],
   "source": [
    "pre_df = pd.read_csv('./data/pre_soccer_extraction.csv')\n",
    "post_df = pd.read_csv('./data/post_soccer_extraction.csv')"
   ]
  },
  {
   "cell_type": "code",
   "execution_count": 5,
   "id": "collective-gather",
   "metadata": {
    "ExecuteTime": {
     "end_time": "2021-02-18T23:37:23.949545Z",
     "start_time": "2021-02-18T23:37:23.919546Z"
    }
   },
   "outputs": [
    {
     "data": {
      "text/html": [
       "<div>\n",
       "<style scoped>\n",
       "    .dataframe tbody tr th:only-of-type {\n",
       "        vertical-align: middle;\n",
       "    }\n",
       "\n",
       "    .dataframe tbody tr th {\n",
       "        vertical-align: top;\n",
       "    }\n",
       "\n",
       "    .dataframe thead th {\n",
       "        text-align: right;\n",
       "    }\n",
       "</style>\n",
       "<table border=\"1\" class=\"dataframe\">\n",
       "  <thead>\n",
       "    <tr style=\"text-align: right;\">\n",
       "      <th></th>\n",
       "      <th>ptitle</th>\n",
       "      <th>pscore</th>\n",
       "      <th>pid</th>\n",
       "      <th>pbody</th>\n",
       "      <th>pcreated</th>\n",
       "      <th>comment</th>\n",
       "      <th>cauthor</th>\n",
       "      <th>ccreated</th>\n",
       "    </tr>\n",
       "  </thead>\n",
       "  <tbody>\n",
       "    <tr>\n",
       "      <th>0</th>\n",
       "      <td>[Pre-Match Thread] Porto vs Juventus (Champion...</td>\n",
       "      <td>60</td>\n",
       "      <td>lls3ua</td>\n",
       "      <td>**Porto vs Juventus**\\n\\nCompetition: UEFA Cha...</td>\n",
       "      <td>1.613589e+09</td>\n",
       "      <td>If you can’t stop Sporting from winning the le...</td>\n",
       "      <td>idek0k</td>\n",
       "      <td>1.613592e+09</td>\n",
       "    </tr>\n",
       "    <tr>\n",
       "      <th>1</th>\n",
       "      <td>[Pre-Match Thread] Porto vs Juventus (Champion...</td>\n",
       "      <td>60</td>\n",
       "      <td>lls3ua</td>\n",
       "      <td>**Porto vs Juventus**\\n\\nCompetition: UEFA Cha...</td>\n",
       "      <td>1.613589e+09</td>\n",
       "      <td>I don't follow Liga NOS closely, so any Portug...</td>\n",
       "      <td>kuzjaruge</td>\n",
       "      <td>1.613590e+09</td>\n",
       "    </tr>\n",
       "    <tr>\n",
       "      <th>2</th>\n",
       "      <td>[Pre-Match Thread] Porto vs Juventus (Champion...</td>\n",
       "      <td>60</td>\n",
       "      <td>lls3ua</td>\n",
       "      <td>**Porto vs Juventus**\\n\\nCompetition: UEFA Cha...</td>\n",
       "      <td>1.613589e+09</td>\n",
       "      <td>Go on Porto, get that win so I can look at the...</td>\n",
       "      <td>TweakyWatson</td>\n",
       "      <td>1.613591e+09</td>\n",
       "    </tr>\n",
       "    <tr>\n",
       "      <th>3</th>\n",
       "      <td>[Pre-Match Thread] Porto vs Juventus (Champion...</td>\n",
       "      <td>60</td>\n",
       "      <td>lls3ua</td>\n",
       "      <td>**Porto vs Juventus**\\n\\nCompetition: UEFA Cha...</td>\n",
       "      <td>1.613589e+09</td>\n",
       "      <td>It’s a shame that fans aren’t allowed in stadi...</td>\n",
       "      <td>rabbitvinyl</td>\n",
       "      <td>1.613596e+09</td>\n",
       "    </tr>\n",
       "    <tr>\n",
       "      <th>4</th>\n",
       "      <td>[Pre-Match Thread] Porto vs Juventus (Champion...</td>\n",
       "      <td>60</td>\n",
       "      <td>lls3ua</td>\n",
       "      <td>**Porto vs Juventus**\\n\\nCompetition: UEFA Cha...</td>\n",
       "      <td>1.613589e+09</td>\n",
       "      <td>Juventus will take this easily ,porto is a fai...</td>\n",
       "      <td>NunoxGames</td>\n",
       "      <td>1.613591e+09</td>\n",
       "    </tr>\n",
       "    <tr>\n",
       "      <th>...</th>\n",
       "      <td>...</td>\n",
       "      <td>...</td>\n",
       "      <td>...</td>\n",
       "      <td>...</td>\n",
       "      <td>...</td>\n",
       "      <td>...</td>\n",
       "      <td>...</td>\n",
       "      <td>...</td>\n",
       "    </tr>\n",
       "    <tr>\n",
       "      <th>18322</th>\n",
       "      <td>Pre Match Thread: Real Madrid vs Ajax [UCL] (2...</td>\n",
       "      <td>102</td>\n",
       "      <td>axleo6</td>\n",
       "      <td>#Real Madrid [](#sprite1-p9) - [](#sprite1-p22...</td>\n",
       "      <td>1.551823e+09</td>\n",
       "      <td>&gt;Implying Liverpool won't get stomped in München</td>\n",
       "      <td>KDB_Citizen</td>\n",
       "      <td>1.551841e+09</td>\n",
       "    </tr>\n",
       "    <tr>\n",
       "      <th>18323</th>\n",
       "      <td>Pre Match Thread: Real Madrid vs Ajax [UCL] (2...</td>\n",
       "      <td>102</td>\n",
       "      <td>axleo6</td>\n",
       "      <td>#Real Madrid [](#sprite1-p9) - [](#sprite1-p22...</td>\n",
       "      <td>1.551823e+09</td>\n",
       "      <td>I said it in the summer and I'll say it again,...</td>\n",
       "      <td>OleoleCholoSimeone</td>\n",
       "      <td>1.551828e+09</td>\n",
       "    </tr>\n",
       "    <tr>\n",
       "      <th>18324</th>\n",
       "      <td>Pre Match Thread: Real Madrid vs Ajax [UCL] (2...</td>\n",
       "      <td>102</td>\n",
       "      <td>axleo6</td>\n",
       "      <td>#Real Madrid [](#sprite1-p9) - [](#sprite1-p22...</td>\n",
       "      <td>1.551823e+09</td>\n",
       "      <td>I LOVE DIS GAMEEEEEEEEEEEEEEEEEE</td>\n",
       "      <td>YerCatalanPadre</td>\n",
       "      <td>1.551850e+09</td>\n",
       "    </tr>\n",
       "    <tr>\n",
       "      <th>18325</th>\n",
       "      <td>Pre Match Thread: Real Madrid vs Ajax [UCL] (2...</td>\n",
       "      <td>102</td>\n",
       "      <td>axleo6</td>\n",
       "      <td>#Real Madrid [](#sprite1-p9) - [](#sprite1-p22...</td>\n",
       "      <td>1.551823e+09</td>\n",
       "      <td>Doesn't make it true even if you say it thrice</td>\n",
       "      <td>Ajk320</td>\n",
       "      <td>1.551836e+09</td>\n",
       "    </tr>\n",
       "    <tr>\n",
       "      <th>18326</th>\n",
       "      <td>Pre Match Thread: Real Madrid vs Ajax [UCL] (2...</td>\n",
       "      <td>102</td>\n",
       "      <td>axleo6</td>\n",
       "      <td>#Real Madrid [](#sprite1-p9) - [](#sprite1-p22...</td>\n",
       "      <td>1.551823e+09</td>\n",
       "      <td>No, the results made it true a while ago</td>\n",
       "      <td>Rakulon</td>\n",
       "      <td>1.551838e+09</td>\n",
       "    </tr>\n",
       "  </tbody>\n",
       "</table>\n",
       "<p>18327 rows × 8 columns</p>\n",
       "</div>"
      ],
      "text/plain": [
       "                                                  ptitle  pscore     pid  \\\n",
       "0      [Pre-Match Thread] Porto vs Juventus (Champion...      60  lls3ua   \n",
       "1      [Pre-Match Thread] Porto vs Juventus (Champion...      60  lls3ua   \n",
       "2      [Pre-Match Thread] Porto vs Juventus (Champion...      60  lls3ua   \n",
       "3      [Pre-Match Thread] Porto vs Juventus (Champion...      60  lls3ua   \n",
       "4      [Pre-Match Thread] Porto vs Juventus (Champion...      60  lls3ua   \n",
       "...                                                  ...     ...     ...   \n",
       "18322  Pre Match Thread: Real Madrid vs Ajax [UCL] (2...     102  axleo6   \n",
       "18323  Pre Match Thread: Real Madrid vs Ajax [UCL] (2...     102  axleo6   \n",
       "18324  Pre Match Thread: Real Madrid vs Ajax [UCL] (2...     102  axleo6   \n",
       "18325  Pre Match Thread: Real Madrid vs Ajax [UCL] (2...     102  axleo6   \n",
       "18326  Pre Match Thread: Real Madrid vs Ajax [UCL] (2...     102  axleo6   \n",
       "\n",
       "                                                   pbody      pcreated  \\\n",
       "0      **Porto vs Juventus**\\n\\nCompetition: UEFA Cha...  1.613589e+09   \n",
       "1      **Porto vs Juventus**\\n\\nCompetition: UEFA Cha...  1.613589e+09   \n",
       "2      **Porto vs Juventus**\\n\\nCompetition: UEFA Cha...  1.613589e+09   \n",
       "3      **Porto vs Juventus**\\n\\nCompetition: UEFA Cha...  1.613589e+09   \n",
       "4      **Porto vs Juventus**\\n\\nCompetition: UEFA Cha...  1.613589e+09   \n",
       "...                                                  ...           ...   \n",
       "18322  #Real Madrid [](#sprite1-p9) - [](#sprite1-p22...  1.551823e+09   \n",
       "18323  #Real Madrid [](#sprite1-p9) - [](#sprite1-p22...  1.551823e+09   \n",
       "18324  #Real Madrid [](#sprite1-p9) - [](#sprite1-p22...  1.551823e+09   \n",
       "18325  #Real Madrid [](#sprite1-p9) - [](#sprite1-p22...  1.551823e+09   \n",
       "18326  #Real Madrid [](#sprite1-p9) - [](#sprite1-p22...  1.551823e+09   \n",
       "\n",
       "                                                 comment             cauthor  \\\n",
       "0      If you can’t stop Sporting from winning the le...              idek0k   \n",
       "1      I don't follow Liga NOS closely, so any Portug...           kuzjaruge   \n",
       "2      Go on Porto, get that win so I can look at the...        TweakyWatson   \n",
       "3      It’s a shame that fans aren’t allowed in stadi...         rabbitvinyl   \n",
       "4      Juventus will take this easily ,porto is a fai...          NunoxGames   \n",
       "...                                                  ...                 ...   \n",
       "18322   >Implying Liverpool won't get stomped in München         KDB_Citizen   \n",
       "18323  I said it in the summer and I'll say it again,...  OleoleCholoSimeone   \n",
       "18324                   I LOVE DIS GAMEEEEEEEEEEEEEEEEEE     YerCatalanPadre   \n",
       "18325     Doesn't make it true even if you say it thrice              Ajk320   \n",
       "18326         No, the results made it true a while ago               Rakulon   \n",
       "\n",
       "           ccreated  \n",
       "0      1.613592e+09  \n",
       "1      1.613590e+09  \n",
       "2      1.613591e+09  \n",
       "3      1.613596e+09  \n",
       "4      1.613591e+09  \n",
       "...             ...  \n",
       "18322  1.551841e+09  \n",
       "18323  1.551828e+09  \n",
       "18324  1.551850e+09  \n",
       "18325  1.551836e+09  \n",
       "18326  1.551838e+09  \n",
       "\n",
       "[18327 rows x 8 columns]"
      ]
     },
     "execution_count": 5,
     "metadata": {},
     "output_type": "execute_result"
    }
   ],
   "source": [
    "pre_df"
   ]
  },
  {
   "cell_type": "code",
   "execution_count": 6,
   "id": "distinguished-dollar",
   "metadata": {
    "ExecuteTime": {
     "end_time": "2021-02-18T23:37:23.981548Z",
     "start_time": "2021-02-18T23:37:23.953547Z"
    }
   },
   "outputs": [
    {
     "data": {
      "text/html": [
       "<div>\n",
       "<style scoped>\n",
       "    .dataframe tbody tr th:only-of-type {\n",
       "        vertical-align: middle;\n",
       "    }\n",
       "\n",
       "    .dataframe tbody tr th {\n",
       "        vertical-align: top;\n",
       "    }\n",
       "\n",
       "    .dataframe thead th {\n",
       "        text-align: right;\n",
       "    }\n",
       "</style>\n",
       "<table border=\"1\" class=\"dataframe\">\n",
       "  <thead>\n",
       "    <tr style=\"text-align: right;\">\n",
       "      <th></th>\n",
       "      <th>ptitle</th>\n",
       "      <th>pscore</th>\n",
       "      <th>pid</th>\n",
       "      <th>pbody</th>\n",
       "      <th>pcreated</th>\n",
       "      <th>comment</th>\n",
       "      <th>cauthor</th>\n",
       "      <th>ccreated</th>\n",
       "    </tr>\n",
       "  </thead>\n",
       "  <tbody>\n",
       "    <tr>\n",
       "      <th>0</th>\n",
       "      <td>Post Match Thread: FC Barcelona 1-4 Paris Sain...</td>\n",
       "      <td>2435</td>\n",
       "      <td>llen1t</td>\n",
       "      <td>#[](#sprite1-p6) vs [](#sprite1-p35)\\n\\n**Venu...</td>\n",
       "      <td>1.613541e+09</td>\n",
       "      <td>**GIFs / Stats / Quotes**  *I am a bot, and th...</td>\n",
       "      <td>AutoModerator</td>\n",
       "      <td>1.613541e+09</td>\n",
       "    </tr>\n",
       "    <tr>\n",
       "      <th>1</th>\n",
       "      <td>Post Match Thread: FC Barcelona 1-4 Paris Sain...</td>\n",
       "      <td>2435</td>\n",
       "      <td>llen1t</td>\n",
       "      <td>#[](#sprite1-p6) vs [](#sprite1-p35)\\n\\n**Venu...</td>\n",
       "      <td>1.613541e+09</td>\n",
       "      <td>[Mbappe v Barca](https://preview.redd.it/ky8lk...</td>\n",
       "      <td>CreateNewAccountsss</td>\n",
       "      <td>1.613541e+09</td>\n",
       "    </tr>\n",
       "    <tr>\n",
       "      <th>2</th>\n",
       "      <td>Post Match Thread: FC Barcelona 1-4 Paris Sain...</td>\n",
       "      <td>2435</td>\n",
       "      <td>llen1t</td>\n",
       "      <td>#[](#sprite1-p6) vs [](#sprite1-p35)\\n\\n**Venu...</td>\n",
       "      <td>1.613541e+09</td>\n",
       "      <td>Good guy PSG saved Barcelona the embarrassment...</td>\n",
       "      <td>codespyder</td>\n",
       "      <td>1.613541e+09</td>\n",
       "    </tr>\n",
       "    <tr>\n",
       "      <th>3</th>\n",
       "      <td>Post Match Thread: FC Barcelona 1-4 Paris Sain...</td>\n",
       "      <td>2435</td>\n",
       "      <td>llen1t</td>\n",
       "      <td>#[](#sprite1-p6) vs [](#sprite1-p35)\\n\\n**Venu...</td>\n",
       "      <td>1.613541e+09</td>\n",
       "      <td>On the bright side for Barcelona, this is a 50...</td>\n",
       "      <td>TheChiffre</td>\n",
       "      <td>1.613541e+09</td>\n",
       "    </tr>\n",
       "    <tr>\n",
       "      <th>4</th>\n",
       "      <td>Post Match Thread: FC Barcelona 1-4 Paris Sain...</td>\n",
       "      <td>2435</td>\n",
       "      <td>llen1t</td>\n",
       "      <td>#[](#sprite1-p6) vs [](#sprite1-p35)\\n\\n**Venu...</td>\n",
       "      <td>1.613541e+09</td>\n",
       "      <td>Koeman set it up perfectly for Remontada 2.0, ...</td>\n",
       "      <td>SomeIrishFiend</td>\n",
       "      <td>1.613541e+09</td>\n",
       "    </tr>\n",
       "    <tr>\n",
       "      <th>...</th>\n",
       "      <td>...</td>\n",
       "      <td>...</td>\n",
       "      <td>...</td>\n",
       "      <td>...</td>\n",
       "      <td>...</td>\n",
       "      <td>...</td>\n",
       "      <td>...</td>\n",
       "      <td>...</td>\n",
       "    </tr>\n",
       "    <tr>\n",
       "      <th>36374</th>\n",
       "      <td>Post-Match Thread: Arsenal 3-0 Newcastle Unite...</td>\n",
       "      <td>445</td>\n",
       "      <td>l04pi5</td>\n",
       "      <td># [](#sprite1-p1) **Arsenal** [3 - 0](#bar-3-w...</td>\n",
       "      <td>1.611035e+09</td>\n",
       "      <td>They overpaid for Joelinton but he isn't that ...</td>\n",
       "      <td>speedycar1</td>\n",
       "      <td>1.611068e+09</td>\n",
       "    </tr>\n",
       "    <tr>\n",
       "      <th>36375</th>\n",
       "      <td>Post-Match Thread: Arsenal 3-0 Newcastle Unite...</td>\n",
       "      <td>445</td>\n",
       "      <td>l04pi5</td>\n",
       "      <td># [](#sprite1-p1) **Arsenal** [3 - 0](#bar-3-w...</td>\n",
       "      <td>1.611035e+09</td>\n",
       "      <td>Ah i wasn't aware. English football punditry j...</td>\n",
       "      <td>stevefingmadden</td>\n",
       "      <td>1.611100e+09</td>\n",
       "    </tr>\n",
       "    <tr>\n",
       "      <th>36376</th>\n",
       "      <td>Post-Match Thread: Arsenal 3-0 Newcastle Unite...</td>\n",
       "      <td>445</td>\n",
       "      <td>l04pi5</td>\n",
       "      <td># [](#sprite1-p1) **Arsenal** [3 - 0](#bar-3-w...</td>\n",
       "      <td>1.611035e+09</td>\n",
       "      <td>Got to wonder what Wilson must be thinking rig...</td>\n",
       "      <td>hydraulicson</td>\n",
       "      <td>1.611037e+09</td>\n",
       "    </tr>\n",
       "    <tr>\n",
       "      <th>36377</th>\n",
       "      <td>Post-Match Thread: Arsenal 3-0 Newcastle Unite...</td>\n",
       "      <td>445</td>\n",
       "      <td>l04pi5</td>\n",
       "      <td># [](#sprite1-p1) **Arsenal** [3 - 0](#bar-3-w...</td>\n",
       "      <td>1.611035e+09</td>\n",
       "      <td>I wouldn't blame him at all if he was regretti...</td>\n",
       "      <td>King_Hobbes</td>\n",
       "      <td>1.611037e+09</td>\n",
       "    </tr>\n",
       "    <tr>\n",
       "      <th>36378</th>\n",
       "      <td>Post-Match Thread: Arsenal 3-0 Newcastle Unite...</td>\n",
       "      <td>445</td>\n",
       "      <td>l04pi5</td>\n",
       "      <td># [](#sprite1-p1) **Arsenal** [3 - 0](#bar-3-w...</td>\n",
       "      <td>1.611035e+09</td>\n",
       "      <td>Turned us down for Newcastle apparently.</td>\n",
       "      <td>SmellsLikeBigCheese</td>\n",
       "      <td>1.611042e+09</td>\n",
       "    </tr>\n",
       "  </tbody>\n",
       "</table>\n",
       "<p>36379 rows × 8 columns</p>\n",
       "</div>"
      ],
      "text/plain": [
       "                                                  ptitle  pscore     pid  \\\n",
       "0      Post Match Thread: FC Barcelona 1-4 Paris Sain...    2435  llen1t   \n",
       "1      Post Match Thread: FC Barcelona 1-4 Paris Sain...    2435  llen1t   \n",
       "2      Post Match Thread: FC Barcelona 1-4 Paris Sain...    2435  llen1t   \n",
       "3      Post Match Thread: FC Barcelona 1-4 Paris Sain...    2435  llen1t   \n",
       "4      Post Match Thread: FC Barcelona 1-4 Paris Sain...    2435  llen1t   \n",
       "...                                                  ...     ...     ...   \n",
       "36374  Post-Match Thread: Arsenal 3-0 Newcastle Unite...     445  l04pi5   \n",
       "36375  Post-Match Thread: Arsenal 3-0 Newcastle Unite...     445  l04pi5   \n",
       "36376  Post-Match Thread: Arsenal 3-0 Newcastle Unite...     445  l04pi5   \n",
       "36377  Post-Match Thread: Arsenal 3-0 Newcastle Unite...     445  l04pi5   \n",
       "36378  Post-Match Thread: Arsenal 3-0 Newcastle Unite...     445  l04pi5   \n",
       "\n",
       "                                                   pbody      pcreated  \\\n",
       "0      #[](#sprite1-p6) vs [](#sprite1-p35)\\n\\n**Venu...  1.613541e+09   \n",
       "1      #[](#sprite1-p6) vs [](#sprite1-p35)\\n\\n**Venu...  1.613541e+09   \n",
       "2      #[](#sprite1-p6) vs [](#sprite1-p35)\\n\\n**Venu...  1.613541e+09   \n",
       "3      #[](#sprite1-p6) vs [](#sprite1-p35)\\n\\n**Venu...  1.613541e+09   \n",
       "4      #[](#sprite1-p6) vs [](#sprite1-p35)\\n\\n**Venu...  1.613541e+09   \n",
       "...                                                  ...           ...   \n",
       "36374  # [](#sprite1-p1) **Arsenal** [3 - 0](#bar-3-w...  1.611035e+09   \n",
       "36375  # [](#sprite1-p1) **Arsenal** [3 - 0](#bar-3-w...  1.611035e+09   \n",
       "36376  # [](#sprite1-p1) **Arsenal** [3 - 0](#bar-3-w...  1.611035e+09   \n",
       "36377  # [](#sprite1-p1) **Arsenal** [3 - 0](#bar-3-w...  1.611035e+09   \n",
       "36378  # [](#sprite1-p1) **Arsenal** [3 - 0](#bar-3-w...  1.611035e+09   \n",
       "\n",
       "                                                 comment              cauthor  \\\n",
       "0      **GIFs / Stats / Quotes**  *I am a bot, and th...        AutoModerator   \n",
       "1      [Mbappe v Barca](https://preview.redd.it/ky8lk...  CreateNewAccountsss   \n",
       "2      Good guy PSG saved Barcelona the embarrassment...           codespyder   \n",
       "3      On the bright side for Barcelona, this is a 50...           TheChiffre   \n",
       "4      Koeman set it up perfectly for Remontada 2.0, ...       SomeIrishFiend   \n",
       "...                                                  ...                  ...   \n",
       "36374  They overpaid for Joelinton but he isn't that ...           speedycar1   \n",
       "36375  Ah i wasn't aware. English football punditry j...      stevefingmadden   \n",
       "36376  Got to wonder what Wilson must be thinking rig...         hydraulicson   \n",
       "36377  I wouldn't blame him at all if he was regretti...          King_Hobbes   \n",
       "36378           Turned us down for Newcastle apparently.  SmellsLikeBigCheese   \n",
       "\n",
       "           ccreated  \n",
       "0      1.613541e+09  \n",
       "1      1.613541e+09  \n",
       "2      1.613541e+09  \n",
       "3      1.613541e+09  \n",
       "4      1.613541e+09  \n",
       "...             ...  \n",
       "36374  1.611068e+09  \n",
       "36375  1.611100e+09  \n",
       "36376  1.611037e+09  \n",
       "36377  1.611037e+09  \n",
       "36378  1.611042e+09  \n",
       "\n",
       "[36379 rows x 8 columns]"
      ]
     },
     "execution_count": 6,
     "metadata": {},
     "output_type": "execute_result"
    }
   ],
   "source": [
    "post_df"
   ]
  },
  {
   "cell_type": "code",
   "execution_count": 7,
   "id": "sudden-pierce",
   "metadata": {
    "ExecuteTime": {
     "end_time": "2021-02-18T23:37:23.997546Z",
     "start_time": "2021-02-18T23:37:23.984549Z"
    }
   },
   "outputs": [
    {
     "ename": "SyntaxError",
     "evalue": "invalid syntax (<ipython-input-7-a492fb8785c1>, line 24)",
     "output_type": "error",
     "traceback": [
      "\u001b[1;36m  File \u001b[1;32m\"<ipython-input-7-a492fb8785c1>\"\u001b[1;36m, line \u001b[1;32m24\u001b[0m\n\u001b[1;33m    df_tk = df_tk.append({\"ptitle\": ptitle, 'pscore':pscore, 'pid':pid, 'pbody':pbody, 'pcreated': pcreated, 'comment': words_lm, cauthor},ignore_index=True)\u001b[0m\n\u001b[1;37m                                                                                                                                         ^\u001b[0m\n\u001b[1;31mSyntaxError\u001b[0m\u001b[1;31m:\u001b[0m invalid syntax\n"
     ]
    }
   ],
   "source": [
    "def TokenizeProcess(df):\n",
    "    word_lemmatizer = WordNetLemmatizer()\n",
    "\n",
    "    df_tk = pd.DataFrame(columns=['ptitle', 'pscore', 'pid', 'pbody', 'pcreated', 'comment', 'cauthor', 'ccreated'])\n",
    "\n",
    "    for (ptitle, pscore, pid, pbody, pcreated, comment, cauthor, ccreated) in df.values.tolist():\n",
    "        # Tokenize\n",
    "        tokens = word_tokenize(str(comment))\n",
    "\n",
    "        # Strip punctuation\n",
    "        punctuation_list = str.maketrans('', '', string.punctuation)\n",
    "        tokens_strp = [w.translate(punctuation_list) for w in tokens]\n",
    "\n",
    "        # Remove other non-alphabetic tokens\n",
    "        words = [word for word in tokens_strp if word.isalpha()]\n",
    "\n",
    "        # Stop words\n",
    "        stop_words = set(stopwords.words('english'))\n",
    "        words = [w for w in words if not w in stop_words]\n",
    "\n",
    "        # Lemmatize\n",
    "        # Note: We might need to do this for the brands we want to detect as well\n",
    "        words_lm = [word_lemmatizer.lemmatize(w) for w in words]\n",
    "        df_tk = df_tk.append({\"ptitle\": ptitle, 'pscore':pscore, 'pid':pid, 'pbody':pbody, 'pcreated': pcreated, 'comment': words_lm, 'cauthor': cauthor} ,ignore_index=True) \n",
    "    return df_tk"
   ]
  },
  {
   "cell_type": "code",
   "execution_count": null,
   "id": "civil-priority",
   "metadata": {
    "ExecuteTime": {
     "end_time": "2021-02-18T23:37:24.000546Z",
     "start_time": "2021-02-18T23:37:18.844Z"
    }
   },
   "outputs": [],
   "source": [
    "pre_df_tk = TokenizeProcess(pre_df)"
   ]
  },
  {
   "cell_type": "code",
   "execution_count": null,
   "id": "flexible-advocacy",
   "metadata": {
    "ExecuteTime": {
     "end_time": "2021-02-18T23:37:24.002547Z",
     "start_time": "2021-02-18T23:37:18.846Z"
    }
   },
   "outputs": [],
   "source": [
    "post_df_tk = TokenizeProcess(post_df)"
   ]
  },
  {
   "cell_type": "code",
   "execution_count": null,
   "id": "modern-insert",
   "metadata": {
    "ExecuteTime": {
     "end_time": "2021-02-18T23:37:24.003547Z",
     "start_time": "2021-02-18T23:37:18.847Z"
    }
   },
   "outputs": [],
   "source": [
    "pre_df_tk.head(10)"
   ]
  },
  {
   "cell_type": "code",
   "execution_count": null,
   "id": "seventh-mason",
   "metadata": {
    "ExecuteTime": {
     "end_time": "2021-02-18T23:37:24.004547Z",
     "start_time": "2021-02-18T23:37:18.849Z"
    }
   },
   "outputs": [],
   "source": [
    "post_df.head(10)"
   ]
  },
  {
   "cell_type": "code",
   "execution_count": null,
   "id": "related-lawsuit",
   "metadata": {
    "ExecuteTime": {
     "end_time": "2021-02-18T23:37:24.005547Z",
     "start_time": "2021-02-18T23:37:18.851Z"
    }
   },
   "outputs": [],
   "source": [
    "pre_posts.to_csv(\"./data/pre_soccer_tokenized.csv\",index=False)\n",
    "post_posts.to_csv(\"./data/post_soccer_tokenized.csv\",index=False)"
   ]
  },
  {
   "cell_type": "code",
   "execution_count": null,
   "id": "abandoned-facial",
   "metadata": {},
   "outputs": [],
   "source": []
  }
 ],
 "metadata": {
  "hide_input": false,
  "kernelspec": {
   "display_name": "Python 3",
   "language": "python",
   "name": "python3"
  },
  "language_info": {
   "codemirror_mode": {
    "name": "ipython",
    "version": 3
   },
   "file_extension": ".py",
   "mimetype": "text/x-python",
   "name": "python",
   "nbconvert_exporter": "python",
   "pygments_lexer": "ipython3",
   "version": "3.7.7"
  },
  "toc": {
   "base_numbering": 1,
   "nav_menu": {},
   "number_sections": true,
   "sideBar": true,
   "skip_h1_title": false,
   "title_cell": "Table of Contents",
   "title_sidebar": "Contents",
   "toc_cell": false,
   "toc_position": {},
   "toc_section_display": true,
   "toc_window_display": false
  },
  "varInspector": {
   "cols": {
    "lenName": 16,
    "lenType": 16,
    "lenVar": 40
   },
   "kernels_config": {
    "python": {
     "delete_cmd_postfix": "",
     "delete_cmd_prefix": "del ",
     "library": "var_list.py",
     "varRefreshCmd": "print(var_dic_list())"
    },
    "r": {
     "delete_cmd_postfix": ") ",
     "delete_cmd_prefix": "rm(",
     "library": "var_list.r",
     "varRefreshCmd": "cat(var_dic_list()) "
    }
   },
   "types_to_exclude": [
    "module",
    "function",
    "builtin_function_or_method",
    "instance",
    "_Feature"
   ],
   "window_display": false
  }
 },
 "nbformat": 4,
 "nbformat_minor": 5
}
