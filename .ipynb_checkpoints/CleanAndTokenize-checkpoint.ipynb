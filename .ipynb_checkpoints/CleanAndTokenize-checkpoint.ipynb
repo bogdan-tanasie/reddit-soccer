{
 "cells": [
  {
   "cell_type": "code",
   "execution_count": 42,
   "metadata": {
    "ExecuteTime": {
     "end_time": "2021-02-18T23:38:51.511619Z",
     "start_time": "2021-02-18T23:38:51.385623Z"
    }
   },
   "outputs": [
    {
     "ename": "ModuleNotFoundError",
     "evalue": "No module named 'pyopencl'",
     "output_type": "error",
     "traceback": [
      "\u001b[0;31m---------------------------------------------------------------------------\u001b[0m",
      "\u001b[0;31mModuleNotFoundError\u001b[0m                       Traceback (most recent call last)",
      "\u001b[0;32m<ipython-input-42-a1e3fe8d0749>\u001b[0m in \u001b[0;36m<module>\u001b[0;34m\u001b[0m\n\u001b[0;32m----> 1\u001b[0;31m \u001b[0;32mimport\u001b[0m \u001b[0mpyopencl\u001b[0m \u001b[0;32mas\u001b[0m \u001b[0mcl\u001b[0m \u001b[0;31m#ONLY RUN THIS IF YOU'RE USING GPU\u001b[0m\u001b[0;34m\u001b[0m\u001b[0;34m\u001b[0m\u001b[0m\n\u001b[0m",
      "\u001b[0;31mModuleNotFoundError\u001b[0m: No module named 'pyopencl'"
     ]
    }
   ],
   "source": [
    "import pyopencl as cl #ONLY RUN THIS IF YOU'RE USING GPU"
   ]
  },
  {
   "cell_type": "code",
   "execution_count": 43,
   "metadata": {
    "ExecuteTime": {
     "end_time": "2021-02-18T23:38:53.011623Z",
     "start_time": "2021-02-18T23:38:51.512621Z"
    }
   },
   "outputs": [
    {
     "name": "stderr",
     "output_type": "stream",
     "text": [
      "[nltk_data] Downloading package punkt to /Users/Rgao/nltk_data...\n",
      "[nltk_data]   Package punkt is already up-to-date!\n",
      "[nltk_data] Downloading package stopwords to /Users/Rgao/nltk_data...\n",
      "[nltk_data]   Package stopwords is already up-to-date!\n",
      "[nltk_data] Downloading package wordnet to /Users/Rgao/nltk_data...\n",
      "[nltk_data]   Package wordnet is already up-to-date!\n"
     ]
    },
    {
     "data": {
      "text/plain": [
       "True"
      ]
     },
     "execution_count": 43,
     "metadata": {},
     "output_type": "execute_result"
    }
   ],
   "source": [
    "import nltk\n",
    "nltk.download('punkt')\n",
    "nltk.download('stopwords')\n",
    "nltk.download('wordnet')"
   ]
  },
  {
   "cell_type": "code",
   "execution_count": 44,
   "metadata": {
    "ExecuteTime": {
     "end_time": "2021-02-18T23:38:53.307622Z",
     "start_time": "2021-02-18T23:38:53.013624Z"
    }
   },
   "outputs": [],
   "source": [
    "import pandas as pd\n",
    "from nltk.tokenize import sent_tokenize, word_tokenize\n",
    "from nltk.corpus import stopwords\n",
    "from nltk.stem import WordNetLemmatizer\n",
    "import string"
   ]
  },
  {
   "cell_type": "code",
   "execution_count": 45,
   "metadata": {
    "ExecuteTime": {
     "end_time": "2021-02-18T23:38:56.470621Z",
     "start_time": "2021-02-18T23:38:53.309624Z"
    }
   },
   "outputs": [],
   "source": [
    "pre_df = pd.read_csv('./data/pre_soccer_replaced.csv')\n",
    "post_df = pd.read_csv('./data/post_soccer_replaced.csv')"
   ]
  },
  {
   "cell_type": "code",
   "execution_count": 51,
   "metadata": {
    "ExecuteTime": {
     "end_time": "2021-02-18T23:38:56.501620Z",
     "start_time": "2021-02-18T23:38:56.472622Z"
    }
   },
   "outputs": [],
   "source": [
    "from datetime import datetime\n",
    "pre_df['pcreated']=[datetime.fromtimestamp(x) for x in pre_df['pcreated']]\n",
    "post_df['pcreated']=[datetime.fromtimestamp(x) for x in post_df['pcreated']]\n",
    "pre_df['ccreated']=[datetime.fromtimestamp(x) for x in pre_df['ccreated']]\n",
    "post_df['ccreated']=[datetime.fromtimestamp(x) for x in post_df['ccreated']]\n",
    "\n",
    "# 1. I have fix dates \n",
    "# 2. Seperate the teams out from title, pickle the files\n",
    "# 3. Anu -> sentiment analysis\n",
    "# 4. Sid -> Report starting\n",
    "# 5. Bog -> front-end, matching"
   ]
  },
  {
   "cell_type": "code",
   "execution_count": 48,
   "metadata": {
    "ExecuteTime": {
     "end_time": "2021-02-18T23:38:56.548621Z",
     "start_time": "2021-02-18T23:38:56.536625Z"
    }
   },
   "outputs": [],
   "source": [
    "def TokenizeProcess(df):\n",
    "    word_lemmatizer = WordNetLemmatizer()\n",
    "\n",
    "    df_tk = pd.DataFrame(columns=['ptitle', 'pscore', 'pid', 'pbody', 'pcreated', 'comment', 'cauthor', 'ccreated'])\n",
    "\n",
    "    for (ptitle, pscore, pid, pbody, pcreated, comment, cauthor, ccreated) in df.values.tolist():\n",
    "        # Tokenize\n",
    "        tokens = word_tokenize(str(comment))\n",
    "\n",
    "        # Strip punctuation\n",
    "        punctuation_list = str.maketrans('', '', string.punctuation)\n",
    "        tokens_strp = [w.translate(punctuation_list) for w in tokens]\n",
    "\n",
    "        # Remove other non-alphabetic tokens\n",
    "        words = [word for word in tokens_strp if word.isalpha()]\n",
    "\n",
    "        # Stop words\n",
    "        stop_words = set(stopwords.words('english'))\n",
    "        words = [w for w in words if not w in stop_words]\n",
    "\n",
    "        # Lemmatize\n",
    "        # Note: We might need to do this for the brands we want to detect as well\n",
    "        words_lm = [word_lemmatizer.lemmatize(w) for w in words]\n",
    "        df_tk = df_tk.append({\"ptitle\": ptitle, 'pscore':pscore, 'pid':pid, 'pbody':pbody, 'pcreated': pcreated, 'comment': words_lm, 'cauthor': cauthor, 'ccreated': ccreated} ,ignore_index=True) \n",
    "    return df_tk"
   ]
  },
  {
   "cell_type": "code",
   "execution_count": 49,
   "metadata": {
    "ExecuteTime": {
     "end_time": "2021-02-18T23:41:01.732651Z",
     "start_time": "2021-02-18T23:38:56.550622Z"
    }
   },
   "outputs": [
    {
     "name": "stderr",
     "output_type": "stream",
     "text": [
      "\n",
      "KeyboardInterrupt\n",
      "\n"
     ]
    }
   ],
   "source": [
    "pre_df_tk = TokenizeProcess(pre_df)"
   ]
  },
  {
   "cell_type": "code",
   "execution_count": null,
   "metadata": {
    "ExecuteTime": {
     "end_time": "2021-02-18T23:46:33.119685Z",
     "start_time": "2021-02-18T23:41:01.733621Z"
    }
   },
   "outputs": [],
   "source": [
    "post_df_tk = TokenizeProcess(post_df)"
   ]
  },
  {
   "cell_type": "code",
   "execution_count": 10,
   "metadata": {
    "ExecuteTime": {
     "end_time": "2021-02-18T23:46:33.151647Z",
     "start_time": "2021-02-18T23:46:33.120621Z"
    }
   },
   "outputs": [
    {
     "data": {
      "text/html": [
       "<div>\n",
       "<style scoped>\n",
       "    .dataframe tbody tr th:only-of-type {\n",
       "        vertical-align: middle;\n",
       "    }\n",
       "\n",
       "    .dataframe tbody tr th {\n",
       "        vertical-align: top;\n",
       "    }\n",
       "\n",
       "    .dataframe thead th {\n",
       "        text-align: right;\n",
       "    }\n",
       "</style>\n",
       "<table border=\"1\" class=\"dataframe\">\n",
       "  <thead>\n",
       "    <tr style=\"text-align: right;\">\n",
       "      <th></th>\n",
       "      <th>ptitle</th>\n",
       "      <th>pscore</th>\n",
       "      <th>pid</th>\n",
       "      <th>pbody</th>\n",
       "      <th>pcreated</th>\n",
       "      <th>comment</th>\n",
       "      <th>cauthor</th>\n",
       "      <th>ccreated</th>\n",
       "    </tr>\n",
       "  </thead>\n",
       "  <tbody>\n",
       "    <tr>\n",
       "      <th>0</th>\n",
       "      <td>[Pre-Match Thread] Porto vs Juventus (Champion...</td>\n",
       "      <td>60</td>\n",
       "      <td>lls3ua</td>\n",
       "      <td>**Porto vs Juventus**\\n\\nCompetition: UEFA Cha...</td>\n",
       "      <td>1.613589e+09</td>\n",
       "      <td>[If, stop, Sporting, winning, league, least, m...</td>\n",
       "      <td>idek0k</td>\n",
       "      <td>NaN</td>\n",
       "    </tr>\n",
       "    <tr>\n",
       "      <th>1</th>\n",
       "      <td>[Pre-Match Thread] Porto vs Juventus (Champion...</td>\n",
       "      <td>60</td>\n",
       "      <td>lls3ua</td>\n",
       "      <td>**Porto vs Juventus**\\n\\nCompetition: UEFA Cha...</td>\n",
       "      <td>1.613589e+09</td>\n",
       "      <td>[I, nt, follow, Liga, NOS, closely, Portuguese...</td>\n",
       "      <td>kuzjaruge</td>\n",
       "      <td>NaN</td>\n",
       "    </tr>\n",
       "    <tr>\n",
       "      <th>2</th>\n",
       "      <td>[Pre-Match Thread] Porto vs Juventus (Champion...</td>\n",
       "      <td>60</td>\n",
       "      <td>lls3ua</td>\n",
       "      <td>**Porto vs Juventus**\\n\\nCompetition: UEFA Cha...</td>\n",
       "      <td>1.613589e+09</td>\n",
       "      <td>[Go, Porto, get, win, I, look, match, thread, ...</td>\n",
       "      <td>TweakyWatson</td>\n",
       "      <td>NaN</td>\n",
       "    </tr>\n",
       "    <tr>\n",
       "      <th>3</th>\n",
       "      <td>[Pre-Match Thread] Porto vs Juventus (Champion...</td>\n",
       "      <td>60</td>\n",
       "      <td>lls3ua</td>\n",
       "      <td>**Porto vs Juventus**\\n\\nCompetition: UEFA Cha...</td>\n",
       "      <td>1.613589e+09</td>\n",
       "      <td>[It, shame, fan, allowed, stadium, I, think, w...</td>\n",
       "      <td>rabbitvinyl</td>\n",
       "      <td>NaN</td>\n",
       "    </tr>\n",
       "    <tr>\n",
       "      <th>4</th>\n",
       "      <td>[Pre-Match Thread] Porto vs Juventus (Champion...</td>\n",
       "      <td>60</td>\n",
       "      <td>lls3ua</td>\n",
       "      <td>**Porto vs Juventus**\\n\\nCompetition: UEFA Cha...</td>\n",
       "      <td>1.613589e+09</td>\n",
       "      <td>[Juventus, take, easily, porto, fairly, decent...</td>\n",
       "      <td>NunoxGames</td>\n",
       "      <td>NaN</td>\n",
       "    </tr>\n",
       "    <tr>\n",
       "      <th>5</th>\n",
       "      <td>[Pre-Match Thread] Porto vs Juventus (Champion...</td>\n",
       "      <td>60</td>\n",
       "      <td>lls3ua</td>\n",
       "      <td>**Porto vs Juventus**\\n\\nCompetition: UEFA Cha...</td>\n",
       "      <td>1.613589e+09</td>\n",
       "      <td>[Oh, Cuadrado, injured, Sucks, I, looking, for...</td>\n",
       "      <td>atropicalpenguin</td>\n",
       "      <td>NaN</td>\n",
       "    </tr>\n",
       "    <tr>\n",
       "      <th>6</th>\n",
       "      <td>[Pre-Match Thread] Porto vs Juventus (Champion...</td>\n",
       "      <td>60</td>\n",
       "      <td>lls3ua</td>\n",
       "      <td>**Porto vs Juventus**\\n\\nCompetition: UEFA Cha...</td>\n",
       "      <td>1.613589e+09</td>\n",
       "      <td>[Marega, masterclass]</td>\n",
       "      <td>Homygod319</td>\n",
       "      <td>NaN</td>\n",
       "    </tr>\n",
       "    <tr>\n",
       "      <th>7</th>\n",
       "      <td>[Pre-Match Thread] Porto vs Juventus (Champion...</td>\n",
       "      <td>60</td>\n",
       "      <td>lls3ua</td>\n",
       "      <td>**Porto vs Juventus**\\n\\nCompetition: UEFA Cha...</td>\n",
       "      <td>1.613589e+09</td>\n",
       "      <td>[McKennie, Bentancur, Rabiot, starting, might,...</td>\n",
       "      <td>jv17fortheW</td>\n",
       "      <td>NaN</td>\n",
       "    </tr>\n",
       "    <tr>\n",
       "      <th>8</th>\n",
       "      <td>[Pre-Match Thread] Porto vs Juventus (Champion...</td>\n",
       "      <td>60</td>\n",
       "      <td>lls3ua</td>\n",
       "      <td>**Porto vs Juventus**\\n\\nCompetition: UEFA Cha...</td>\n",
       "      <td>1.613589e+09</td>\n",
       "      <td>[I, fucking, hope, Bernardeschi, nt, start, du...</td>\n",
       "      <td>Handyman2116</td>\n",
       "      <td>NaN</td>\n",
       "    </tr>\n",
       "    <tr>\n",
       "      <th>9</th>\n",
       "      <td>[Pre-Match Thread] Porto vs Juventus (Champion...</td>\n",
       "      <td>60</td>\n",
       "      <td>lls3ua</td>\n",
       "      <td>**Porto vs Juventus**\\n\\nCompetition: UEFA Cha...</td>\n",
       "      <td>1.613589e+09</td>\n",
       "      <td>[happy, get, watch, goat, play, champion, leag...</td>\n",
       "      <td>90degreeturnsbtw</td>\n",
       "      <td>NaN</td>\n",
       "    </tr>\n",
       "  </tbody>\n",
       "</table>\n",
       "</div>"
      ],
      "text/plain": [
       "                                              ptitle pscore     pid  \\\n",
       "0  [Pre-Match Thread] Porto vs Juventus (Champion...     60  lls3ua   \n",
       "1  [Pre-Match Thread] Porto vs Juventus (Champion...     60  lls3ua   \n",
       "2  [Pre-Match Thread] Porto vs Juventus (Champion...     60  lls3ua   \n",
       "3  [Pre-Match Thread] Porto vs Juventus (Champion...     60  lls3ua   \n",
       "4  [Pre-Match Thread] Porto vs Juventus (Champion...     60  lls3ua   \n",
       "5  [Pre-Match Thread] Porto vs Juventus (Champion...     60  lls3ua   \n",
       "6  [Pre-Match Thread] Porto vs Juventus (Champion...     60  lls3ua   \n",
       "7  [Pre-Match Thread] Porto vs Juventus (Champion...     60  lls3ua   \n",
       "8  [Pre-Match Thread] Porto vs Juventus (Champion...     60  lls3ua   \n",
       "9  [Pre-Match Thread] Porto vs Juventus (Champion...     60  lls3ua   \n",
       "\n",
       "                                               pbody      pcreated  \\\n",
       "0  **Porto vs Juventus**\\n\\nCompetition: UEFA Cha...  1.613589e+09   \n",
       "1  **Porto vs Juventus**\\n\\nCompetition: UEFA Cha...  1.613589e+09   \n",
       "2  **Porto vs Juventus**\\n\\nCompetition: UEFA Cha...  1.613589e+09   \n",
       "3  **Porto vs Juventus**\\n\\nCompetition: UEFA Cha...  1.613589e+09   \n",
       "4  **Porto vs Juventus**\\n\\nCompetition: UEFA Cha...  1.613589e+09   \n",
       "5  **Porto vs Juventus**\\n\\nCompetition: UEFA Cha...  1.613589e+09   \n",
       "6  **Porto vs Juventus**\\n\\nCompetition: UEFA Cha...  1.613589e+09   \n",
       "7  **Porto vs Juventus**\\n\\nCompetition: UEFA Cha...  1.613589e+09   \n",
       "8  **Porto vs Juventus**\\n\\nCompetition: UEFA Cha...  1.613589e+09   \n",
       "9  **Porto vs Juventus**\\n\\nCompetition: UEFA Cha...  1.613589e+09   \n",
       "\n",
       "                                             comment           cauthor  \\\n",
       "0  [If, stop, Sporting, winning, league, least, m...            idek0k   \n",
       "1  [I, nt, follow, Liga, NOS, closely, Portuguese...         kuzjaruge   \n",
       "2  [Go, Porto, get, win, I, look, match, thread, ...      TweakyWatson   \n",
       "3  [It, shame, fan, allowed, stadium, I, think, w...       rabbitvinyl   \n",
       "4  [Juventus, take, easily, porto, fairly, decent...        NunoxGames   \n",
       "5  [Oh, Cuadrado, injured, Sucks, I, looking, for...  atropicalpenguin   \n",
       "6                              [Marega, masterclass]        Homygod319   \n",
       "7  [McKennie, Bentancur, Rabiot, starting, might,...       jv17fortheW   \n",
       "8  [I, fucking, hope, Bernardeschi, nt, start, du...      Handyman2116   \n",
       "9  [happy, get, watch, goat, play, champion, leag...  90degreeturnsbtw   \n",
       "\n",
       "   ccreated  \n",
       "0       NaN  \n",
       "1       NaN  \n",
       "2       NaN  \n",
       "3       NaN  \n",
       "4       NaN  \n",
       "5       NaN  \n",
       "6       NaN  \n",
       "7       NaN  \n",
       "8       NaN  \n",
       "9       NaN  "
      ]
     },
     "execution_count": 10,
     "metadata": {},
     "output_type": "execute_result"
    }
   ],
   "source": [
    "pre_df_tk.head(10)"
   ]
  },
  {
   "cell_type": "code",
   "execution_count": 22,
   "metadata": {
    "ExecuteTime": {
     "end_time": "2021-02-18T23:46:33.167623Z",
     "start_time": "2021-02-18T23:46:33.153622Z"
    }
   },
   "outputs": [
    {
     "data": {
      "text/html": [
       "<div>\n",
       "<style scoped>\n",
       "    .dataframe tbody tr th:only-of-type {\n",
       "        vertical-align: middle;\n",
       "    }\n",
       "\n",
       "    .dataframe tbody tr th {\n",
       "        vertical-align: top;\n",
       "    }\n",
       "\n",
       "    .dataframe thead th {\n",
       "        text-align: right;\n",
       "    }\n",
       "</style>\n",
       "<table border=\"1\" class=\"dataframe\">\n",
       "  <thead>\n",
       "    <tr style=\"text-align: right;\">\n",
       "      <th></th>\n",
       "      <th>ptitle</th>\n",
       "      <th>pscore</th>\n",
       "      <th>pid</th>\n",
       "      <th>pbody</th>\n",
       "      <th>pcreated</th>\n",
       "      <th>comment</th>\n",
       "      <th>cauthor</th>\n",
       "      <th>ccreated</th>\n",
       "    </tr>\n",
       "  </thead>\n",
       "  <tbody>\n",
       "    <tr>\n",
       "      <th>0</th>\n",
       "      <td>Post Match Thread: FC Barcelona 1-4 Paris Sain...</td>\n",
       "      <td>2435</td>\n",
       "      <td>llen1t</td>\n",
       "      <td>#[](#sprite1-p6) vs [](#sprite1-p35)\\n\\n**Venu...</td>\n",
       "      <td>1.613541e+09</td>\n",
       "      <td>**gifs / stats / quotes**  *i am a bot, and th...</td>\n",
       "      <td>AutoModerator</td>\n",
       "      <td>1.613541e+09</td>\n",
       "    </tr>\n",
       "    <tr>\n",
       "      <th>1</th>\n",
       "      <td>Post Match Thread: FC Barcelona 1-4 Paris Sain...</td>\n",
       "      <td>2435</td>\n",
       "      <td>llen1t</td>\n",
       "      <td>#[](#sprite1-p6) vs [](#sprite1-p35)\\n\\n**Venu...</td>\n",
       "      <td>1.613541e+09</td>\n",
       "      <td>[mbappe v FC Barcelona](https://preview.redd.i...</td>\n",
       "      <td>CreateNewAccountsss</td>\n",
       "      <td>1.613541e+09</td>\n",
       "    </tr>\n",
       "    <tr>\n",
       "      <th>2</th>\n",
       "      <td>Post Match Thread: FC Barcelona 1-4 Paris Sain...</td>\n",
       "      <td>2435</td>\n",
       "      <td>llen1t</td>\n",
       "      <td>#[](#sprite1-p6) vs [](#sprite1-p35)\\n\\n**Venu...</td>\n",
       "      <td>1.613541e+09</td>\n",
       "      <td>good guy Paris Saint-Germain saved barcelona t...</td>\n",
       "      <td>codespyder</td>\n",
       "      <td>1.613541e+09</td>\n",
       "    </tr>\n",
       "    <tr>\n",
       "      <th>3</th>\n",
       "      <td>Post Match Thread: FC Barcelona 1-4 Paris Sain...</td>\n",
       "      <td>2435</td>\n",
       "      <td>llen1t</td>\n",
       "      <td>#[](#sprite1-p6) vs [](#sprite1-p35)\\n\\n**Venu...</td>\n",
       "      <td>1.613541e+09</td>\n",
       "      <td>on the bright side for barcelona, this is a 50...</td>\n",
       "      <td>TheChiffre</td>\n",
       "      <td>1.613541e+09</td>\n",
       "    </tr>\n",
       "    <tr>\n",
       "      <th>4</th>\n",
       "      <td>Post Match Thread: FC Barcelona 1-4 Paris Sain...</td>\n",
       "      <td>2435</td>\n",
       "      <td>llen1t</td>\n",
       "      <td>#[](#sprite1-p6) vs [](#sprite1-p35)\\n\\n**Venu...</td>\n",
       "      <td>1.613541e+09</td>\n",
       "      <td>koeman set it up perfectly for remontada 2.0, ...</td>\n",
       "      <td>SomeIrishFiend</td>\n",
       "      <td>1.613541e+09</td>\n",
       "    </tr>\n",
       "    <tr>\n",
       "      <th>5</th>\n",
       "      <td>Post Match Thread: FC Barcelona 1-4 Paris Sain...</td>\n",
       "      <td>2435</td>\n",
       "      <td>llen1t</td>\n",
       "      <td>#[](#sprite1-p6) vs [](#sprite1-p35)\\n\\n**Venu...</td>\n",
       "      <td>1.613541e+09</td>\n",
       "      <td>a complete list of every time a team has come ...</td>\n",
       "      <td>gnorrn</td>\n",
       "      <td>1.613541e+09</td>\n",
       "    </tr>\n",
       "    <tr>\n",
       "      <th>6</th>\n",
       "      <td>Post Match Thread: FC Barcelona 1-4 Paris Sain...</td>\n",
       "      <td>2435</td>\n",
       "      <td>llen1t</td>\n",
       "      <td>#[](#sprite1-p6) vs [](#sprite1-p35)\\n\\n**Venu...</td>\n",
       "      <td>1.613541e+09</td>\n",
       "      <td>i can't remember a barcelona season like this....</td>\n",
       "      <td>MrSteelCity</td>\n",
       "      <td>1.613541e+09</td>\n",
       "    </tr>\n",
       "    <tr>\n",
       "      <th>7</th>\n",
       "      <td>Post Match Thread: FC Barcelona 1-4 Paris Sain...</td>\n",
       "      <td>2435</td>\n",
       "      <td>llen1t</td>\n",
       "      <td>#[](#sprite1-p6) vs [](#sprite1-p35)\\n\\n**Venu...</td>\n",
       "      <td>1.613541e+09</td>\n",
       "      <td>it's a bad day to have eyes.</td>\n",
       "      <td>razycal970</td>\n",
       "      <td>1.613541e+09</td>\n",
       "    </tr>\n",
       "    <tr>\n",
       "      <th>8</th>\n",
       "      <td>Post Match Thread: FC Barcelona 1-4 Paris Sain...</td>\n",
       "      <td>2435</td>\n",
       "      <td>llen1t</td>\n",
       "      <td>#[](#sprite1-p6) vs [](#sprite1-p35)\\n\\n**Venu...</td>\n",
       "      <td>1.613541e+09</td>\n",
       "      <td>Paris Saint-Germain having a comfortable lead ...</td>\n",
       "      <td>Sdub4</td>\n",
       "      <td>1.613541e+09</td>\n",
       "    </tr>\n",
       "    <tr>\n",
       "      <th>9</th>\n",
       "      <td>Post Match Thread: FC Barcelona 1-4 Paris Sain...</td>\n",
       "      <td>2435</td>\n",
       "      <td>llen1t</td>\n",
       "      <td>#[](#sprite1-p6) vs [](#sprite1-p35)\\n\\n**Venu...</td>\n",
       "      <td>1.613541e+09</td>\n",
       "      <td>can’t wait to this to be the night which convi...</td>\n",
       "      <td>LosTerminators</td>\n",
       "      <td>1.613541e+09</td>\n",
       "    </tr>\n",
       "  </tbody>\n",
       "</table>\n",
       "</div>"
      ],
      "text/plain": [
       "                                              ptitle  pscore     pid  \\\n",
       "0  Post Match Thread: FC Barcelona 1-4 Paris Sain...    2435  llen1t   \n",
       "1  Post Match Thread: FC Barcelona 1-4 Paris Sain...    2435  llen1t   \n",
       "2  Post Match Thread: FC Barcelona 1-4 Paris Sain...    2435  llen1t   \n",
       "3  Post Match Thread: FC Barcelona 1-4 Paris Sain...    2435  llen1t   \n",
       "4  Post Match Thread: FC Barcelona 1-4 Paris Sain...    2435  llen1t   \n",
       "5  Post Match Thread: FC Barcelona 1-4 Paris Sain...    2435  llen1t   \n",
       "6  Post Match Thread: FC Barcelona 1-4 Paris Sain...    2435  llen1t   \n",
       "7  Post Match Thread: FC Barcelona 1-4 Paris Sain...    2435  llen1t   \n",
       "8  Post Match Thread: FC Barcelona 1-4 Paris Sain...    2435  llen1t   \n",
       "9  Post Match Thread: FC Barcelona 1-4 Paris Sain...    2435  llen1t   \n",
       "\n",
       "                                               pbody      pcreated  \\\n",
       "0  #[](#sprite1-p6) vs [](#sprite1-p35)\\n\\n**Venu...  1.613541e+09   \n",
       "1  #[](#sprite1-p6) vs [](#sprite1-p35)\\n\\n**Venu...  1.613541e+09   \n",
       "2  #[](#sprite1-p6) vs [](#sprite1-p35)\\n\\n**Venu...  1.613541e+09   \n",
       "3  #[](#sprite1-p6) vs [](#sprite1-p35)\\n\\n**Venu...  1.613541e+09   \n",
       "4  #[](#sprite1-p6) vs [](#sprite1-p35)\\n\\n**Venu...  1.613541e+09   \n",
       "5  #[](#sprite1-p6) vs [](#sprite1-p35)\\n\\n**Venu...  1.613541e+09   \n",
       "6  #[](#sprite1-p6) vs [](#sprite1-p35)\\n\\n**Venu...  1.613541e+09   \n",
       "7  #[](#sprite1-p6) vs [](#sprite1-p35)\\n\\n**Venu...  1.613541e+09   \n",
       "8  #[](#sprite1-p6) vs [](#sprite1-p35)\\n\\n**Venu...  1.613541e+09   \n",
       "9  #[](#sprite1-p6) vs [](#sprite1-p35)\\n\\n**Venu...  1.613541e+09   \n",
       "\n",
       "                                             comment              cauthor  \\\n",
       "0  **gifs / stats / quotes**  *i am a bot, and th...        AutoModerator   \n",
       "1  [mbappe v FC Barcelona](https://preview.redd.i...  CreateNewAccountsss   \n",
       "2  good guy Paris Saint-Germain saved barcelona t...           codespyder   \n",
       "3  on the bright side for barcelona, this is a 50...           TheChiffre   \n",
       "4  koeman set it up perfectly for remontada 2.0, ...       SomeIrishFiend   \n",
       "5  a complete list of every time a team has come ...               gnorrn   \n",
       "6  i can't remember a barcelona season like this....          MrSteelCity   \n",
       "7                       it's a bad day to have eyes.           razycal970   \n",
       "8  Paris Saint-Germain having a comfortable lead ...                Sdub4   \n",
       "9  can’t wait to this to be the night which convi...       LosTerminators   \n",
       "\n",
       "       ccreated  \n",
       "0  1.613541e+09  \n",
       "1  1.613541e+09  \n",
       "2  1.613541e+09  \n",
       "3  1.613541e+09  \n",
       "4  1.613541e+09  \n",
       "5  1.613541e+09  \n",
       "6  1.613541e+09  \n",
       "7  1.613541e+09  \n",
       "8  1.613541e+09  \n",
       "9  1.613541e+09  "
      ]
     },
     "execution_count": 22,
     "metadata": {},
     "output_type": "execute_result"
    }
   ],
   "source": [
    "post_df.head(10)"
   ]
  },
  {
   "cell_type": "code",
   "execution_count": 23,
   "metadata": {
    "ExecuteTime": {
     "end_time": "2021-02-18T23:48:08.574599Z",
     "start_time": "2021-02-18T23:48:02.664885Z"
    }
   },
   "outputs": [],
   "source": [
    "pre_df_tk.to_csv(\"./data/pre_soccer_tokenized.csv\",index=False)\n",
    "post_df_tk.to_csv(\"./data/post_soccer_tokenized.csv\",index=False)"
   ]
  },
  {
   "cell_type": "code",
   "execution_count": null,
   "metadata": {},
   "outputs": [],
   "source": []
  }
 ],
 "metadata": {
  "hide_input": false,
  "kernelspec": {
   "display_name": "Python 3",
   "language": "python",
   "name": "python3"
  },
  "language_info": {
   "codemirror_mode": {
    "name": "ipython",
    "version": 3
   },
   "file_extension": ".py",
   "mimetype": "text/x-python",
   "name": "python",
   "nbconvert_exporter": "python",
   "pygments_lexer": "ipython3",
   "version": "3.6.10"
  },
  "toc": {
   "base_numbering": 1,
   "nav_menu": {},
   "number_sections": true,
   "sideBar": true,
   "skip_h1_title": false,
   "title_cell": "Table of Contents",
   "title_sidebar": "Contents",
   "toc_cell": false,
   "toc_position": {},
   "toc_section_display": true,
   "toc_window_display": false
  },
  "varInspector": {
   "cols": {
    "lenName": 16,
    "lenType": 16,
    "lenVar": 40
   },
   "kernels_config": {
    "python": {
     "delete_cmd_postfix": "",
     "delete_cmd_prefix": "del ",
     "library": "var_list.py",
     "varRefreshCmd": "print(var_dic_list())"
    },
    "r": {
     "delete_cmd_postfix": ") ",
     "delete_cmd_prefix": "rm(",
     "library": "var_list.r",
     "varRefreshCmd": "cat(var_dic_list()) "
    }
   },
   "types_to_exclude": [
    "module",
    "function",
    "builtin_function_or_method",
    "instance",
    "_Feature"
   ],
   "window_display": false
  }
 },
 "nbformat": 4,
 "nbformat_minor": 5
}
