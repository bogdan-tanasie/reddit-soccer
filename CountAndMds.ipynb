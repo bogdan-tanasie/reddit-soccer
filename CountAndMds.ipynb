{
 "cells": [
  {
   "cell_type": "code",
   "execution_count": 72,
   "metadata": {},
   "outputs": [],
   "source": [
    "# Count values, lift, and MDS\n",
    "\n",
    "def mentions(words,text):\n",
    "  for word in words:\n",
    "    if word not in text:\n",
    "        return False\n",
    "  return True\n",
    "  \n",
    "def allmentions(words,texts):\n",
    "  mentionedcount = 0\n",
    "  comentions=[]\n",
    "  for text in texts:\n",
    "    comention=mentions(words,text)\n",
    "    if(comention):\n",
    "      mentionedcount+=1\n",
    "      comentions.append(True)\n",
    "    else:\n",
    "      comentions.append(False)\n",
    "  return(mentionedcount,comentions)\n",
    "\n",
    "def lift(countx,county,countxy,N):\n",
    "  return(countxy/N)/((countx/N)*(county/N))\n",
    "\n",
    "def GetTopN(df, words, n, word_type):\n",
    "  words_count = dict.fromkeys(words, 0)  \n",
    "\n",
    "  for row in df.values.tolist():\n",
    "    comment = row[3]\n",
    "    for word in words_count:\n",
    "      if word in comment:\n",
    "        words_count[word] += 1\n",
    "  \n",
    "  words_df = pd.DataFrame.from_dict(words_count, orient='index')\n",
    "  print('\\nTop {} {} are:'.format(n, word_type))\n",
    "  top_n_words = words_df.sort_values(by=[0], ascending=False).head(n)\n",
    "  print(top_n_words)\n",
    "  return top_n_words.index.tolist()\n",
    "\n",
    "\n",
    "# def find_replace(data,column,replacements,tokenize=False):\n",
    "#     new_data=[]\n",
    "#     if(tokenize==True):\n",
    "#         for text in data[column]:\n",
    "#             text=text[1:len(text)-1].replace(\"'\",\"\").split(\", \")\n",
    "            \n",
    "#     new_text=[]\n",
    "#     for text in new_data:\n",
    "#         for token_index in range(0,len(text)):\n",
    "#             token=text[token_index]\n",
    "#             if(token.lower() in replacements.keys()):\n",
    "#                 text[token_index] = replacements[token.lower()]\n",
    "                \n",
    "#         new_text.append(text)\n",
    "#     return(new_text)\n",
    "    \n",
    "# import nltk\n",
    "# import pandas as pd\n",
    "# df_tk_pre=pd.read_csv(\"./data/pre_soccer_tokenized.csv\")\n",
    "# df_tk_post=pd.read_csv(\"./data/post_soccer_tokenized.csv\")\n",
    "# replacements=pd.read_csv(\"./data/teams.csv\")\n",
    "\n",
    "df_tk_pre=pd.read_csv(\"./data/pre_soccer_tokenized.csv\")\n",
    "df_tk_post=pd.read_csv(\"./data/post_soccer_tokenized.csv\")\n"
   ]
  },
  {
   "cell_type": "code",
   "execution_count": 71,
   "metadata": {},
   "outputs": [
    {
     "ename": "NameError",
     "evalue": "name 'GetTopN' is not defined",
     "output_type": "error",
     "traceback": [
      "\u001b[0;31m---------------------------------------------------------------------------\u001b[0m",
      "\u001b[0;31mNameError\u001b[0m                                 Traceback (most recent call last)",
      "\u001b[0;32m<ipython-input-71-84bd788929d2>\u001b[0m in \u001b[0;36m<module>\u001b[0;34m\u001b[0m\n\u001b[1;32m      5\u001b[0m \u001b[0;34m\u001b[0m\u001b[0m\n\u001b[1;32m      6\u001b[0m \u001b[0;34m\u001b[0m\u001b[0m\n\u001b[0;32m----> 7\u001b[0;31m \u001b[0mtop10_team_names\u001b[0m \u001b[0;34m=\u001b[0m \u001b[0mGetTopN\u001b[0m\u001b[0;34m(\u001b[0m\u001b[0mdf_tk_pre\u001b[0m\u001b[0;34m,\u001b[0m \u001b[0mbrands\u001b[0m\u001b[0;34m,\u001b[0m \u001b[0;36m10\u001b[0m\u001b[0;34m,\u001b[0m \u001b[0;34m'brands'\u001b[0m\u001b[0;34m)\u001b[0m\u001b[0;34m\u001b[0m\u001b[0;34m\u001b[0m\u001b[0m\n\u001b[0m\u001b[1;32m      8\u001b[0m \u001b[0mtop5_team_names\u001b[0m \u001b[0;34m=\u001b[0m \u001b[0mGetTopN\u001b[0m\u001b[0;34m(\u001b[0m\u001b[0mdf_tk_pre\u001b[0m\u001b[0;34m,\u001b[0m \u001b[0mbrands\u001b[0m\u001b[0;34m,\u001b[0m \u001b[0;36m5\u001b[0m\u001b[0;34m,\u001b[0m \u001b[0;34m'brands'\u001b[0m\u001b[0;34m)\u001b[0m\u001b[0;34m\u001b[0m\u001b[0;34m\u001b[0m\u001b[0m\n\u001b[1;32m      9\u001b[0m \u001b[0mtop5_attributes\u001b[0m \u001b[0;34m=\u001b[0m \u001b[0mGetTopN\u001b[0m\u001b[0;34m(\u001b[0m\u001b[0mdf_tk_pre\u001b[0m\u001b[0;34m,\u001b[0m \u001b[0mattributes\u001b[0m\u001b[0;34m,\u001b[0m \u001b[0;36m5\u001b[0m\u001b[0;34m,\u001b[0m \u001b[0;34m'attributes'\u001b[0m\u001b[0;34m)\u001b[0m\u001b[0;34m\u001b[0m\u001b[0;34m\u001b[0m\u001b[0m\n",
      "\u001b[0;31mNameError\u001b[0m: name 'GetTopN' is not defined"
     ]
    }
   ],
   "source": [
    "keywords = pd.read_csv('./data/teams.csv')\n",
    "teams = list(map(str.lower, list(set(keywords.iloc[:, 0]))))\n",
    "attributes = ['bad','good']\n",
    "\n",
    "\n",
    "\n",
    "top10_team_names = GetTopN(df_tk_pre, brands, 10, 'brands')\n",
    "top5_team_names = GetTopN(df_tk_pre, brands, 5, 'brands')\n",
    "top5_attributes = GetTopN(df_tk_pre, attributes, 5, 'attributes')\n",
    "top10_attributes = GetTopN(df_tk_pre, attributes, 10, 'attributes')\n",
    "top11_attributes = GetTopN(df_tk_pre, attributes, 11, 'attributes')\n"
   ]
  },
  {
   "cell_type": "code",
   "execution_count": 69,
   "metadata": {},
   "outputs": [
    {
     "data": {
      "text/plain": [
       "['villarreal cf',\n",
       " 'bayer 04 leverkeusen',\n",
       " 'real madrid cf',\n",
       " 'fc shakhtar',\n",
       " 'fc salzburg',\n",
       " 'as roma',\n",
       " 'sevilla fc',\n",
       " 'fc bayern munchen',\n",
       " 'chelsea fc',\n",
       " 'club atletico de madrid',\n",
       " 'fc internazionale milano',\n",
       " 'olympique lyonnais',\n",
       " 'manchester city fc',\n",
       " 'borussia dortmund',\n",
       " 'fc barcelona',\n",
       " 'manchester united fc',\n",
       " 'paris saint-germain',\n",
       " 'sl benfica',\n",
       " 'arsenal fc',\n",
       " 'tottenham hotspur',\n",
       " 'liverpool fc',\n",
       " 'rb leipzig',\n",
       " 'fc porto',\n",
       " 'ac milan',\n",
       " 'afc ajax',\n",
       " 'ssc napoli',\n",
       " 'juventus']"
      ]
     },
     "execution_count": 69,
     "metadata": {},
     "output_type": "execute_result"
    }
   ],
   "source": [
    "attributes"
   ]
  }
 ],
 "metadata": {
  "kernelspec": {
   "display_name": "Python 3",
   "language": "python",
   "name": "python3"
  },
  "language_info": {
   "codemirror_mode": {
    "name": "ipython",
    "version": 3
   },
   "file_extension": ".py",
   "mimetype": "text/x-python",
   "name": "python",
   "nbconvert_exporter": "python",
   "pygments_lexer": "ipython3",
   "version": "3.6.10"
  },
  "toc": {
   "base_numbering": 1,
   "nav_menu": {},
   "number_sections": true,
   "sideBar": true,
   "skip_h1_title": false,
   "title_cell": "Table of Contents",
   "title_sidebar": "Contents",
   "toc_cell": false,
   "toc_position": {},
   "toc_section_display": true,
   "toc_window_display": false
  }
 },
 "nbformat": 4,
 "nbformat_minor": 5
}
